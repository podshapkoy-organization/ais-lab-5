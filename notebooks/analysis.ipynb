{
 "cells": [
  {
   "metadata": {
    "ExecuteTime": {
     "end_time": "2024-09-29T20:27:15.136491Z",
     "start_time": "2024-09-29T20:27:15.133392Z"
    }
   },
   "cell_type": "code",
   "source": "",
   "id": "4f899eae16670571",
   "outputs": [],
   "execution_count": 3
  },
  {
   "metadata": {
    "ExecuteTime": {
     "end_time": "2024-10-02T22:04:36.619912Z",
     "start_time": "2024-10-02T22:04:36.577805Z"
    }
   },
   "cell_type": "code",
   "source": [
    "import pandas as pd\n",
    "\n",
    "data = pd.read_csv('../dataset/mushroom.csv')\n",
    "\n",
    "data.replace('?', pd.NA, inplace=True)\n",
    "\n",
    "def categ_features(df):\n",
    "    encoded_df = df.copy()\n",
    "    for column in df.columns:\n",
    "        if df[column].dtype == 'object':\n",
    "            encoded_df[column], _ = pd.factorize(df[column])\n",
    "    return encoded_df\n",
    "\n",
    "data_enc = categ_features(data)\n",
    "\n",
    "X = data_enc.drop(columns=['classes']) \n",
    "y = data_enc['classes']\n"
   ],
   "id": "c8be15393e7cf225",
   "outputs": [],
   "execution_count": 8
  },
  {
   "metadata": {
    "ExecuteTime": {
     "end_time": "2024-10-02T22:04:38.442384Z",
     "start_time": "2024-10-02T22:04:38.434738Z"
    }
   },
   "cell_type": "code",
   "source": [
    "import numpy as np\n",
    "\n",
    "n_features = X.shape[1]\n",
    "num = int(np.sqrt(n_features)) \n",
    "\n",
    "select = np.random.choice(X.columns, num, replace=False)\n",
    "X_selected = X[select]\n",
    "\n",
    "print(\"Количество:\", num)\n",
    "print(\"Признаки:\", select)\n",
    "print(X_selected.head())\n"
   ],
   "id": "33a760ad7ac1df52",
   "outputs": [
    {
     "name": "stdout",
     "output_type": "stream",
     "text": [
      "Количество: 4\n",
      "Признаки: ['bruises' 'gill_spacing' 'ring_type' 'gill_size']\n",
      "   bruises  gill_spacing  ring_type  gill_size\n",
      "0        0             0          0          0\n",
      "1        0             0          0          1\n",
      "2        0             0          0          1\n",
      "3        0             0          0          0\n",
      "4        1             1          1          1\n"
     ]
    }
   ],
   "execution_count": 9
  },
  {
   "metadata": {},
   "cell_type": "code",
   "outputs": [],
   "execution_count": null,
   "source": "",
   "id": "41b1cf525c902435"
  }
 ],
 "metadata": {
  "kernelspec": {
   "display_name": "Python 3",
   "language": "python",
   "name": "python3"
  },
  "language_info": {
   "codemirror_mode": {
    "name": "ipython",
    "version": 2
   },
   "file_extension": ".py",
   "mimetype": "text/x-python",
   "name": "python",
   "nbconvert_exporter": "python",
   "pygments_lexer": "ipython2",
   "version": "2.7.6"
  }
 },
 "nbformat": 4,
 "nbformat_minor": 5
}
